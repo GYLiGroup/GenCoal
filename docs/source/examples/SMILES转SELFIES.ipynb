{
 "cells": [
  {
   "cell_type": "code",
   "execution_count": 10,
   "id": "e454f747",
   "metadata": {
    "ExecuteTime": {
     "end_time": "2024-12-24T10:27:20.990346Z",
     "start_time": "2024-12-24T10:27:20.986377Z"
    },
    "scrolled": true
   },
   "outputs": [
    {
     "name": "stdout",
     "output_type": "stream",
     "text": [
      "[C][Branch2][Ring1][#Branch1][C][O][C][=C][C][Branch1][O][O][C][C][=C][C][=C][C][=C][Ring1][=Branch1][=C][C][=C][Ring1][=C][=C][C][=C][C][=C][Ring2][Ring1][=Branch1]\n"
     ]
    }
   ],
   "source": [
    "from selfies import encoder\n",
    "\n",
    "smiles = \"c1(COc2cc(OCc3ccccc3)ccc2)ccccc1\"\n",
    "selfies = encoder(smiles)\n",
    "print(selfies)"
   ]
  },
  {
   "cell_type": "code",
   "execution_count": null,
   "id": "28074010",
   "metadata": {},
   "outputs": [],
   "source": []
  }
 ],
 "metadata": {
  "kernelspec": {
   "display_name": "clipirmol",
   "language": "python",
   "name": "clipirmol"
  },
  "language_info": {
   "codemirror_mode": {
    "name": "ipython",
    "version": 3
   },
   "file_extension": ".py",
   "mimetype": "text/x-python",
   "name": "python",
   "nbconvert_exporter": "python",
   "pygments_lexer": "ipython3",
   "version": "3.8.16"
  }
 },
 "nbformat": 4,
 "nbformat_minor": 5
}
