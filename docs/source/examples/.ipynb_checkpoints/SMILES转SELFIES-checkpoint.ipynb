{
 "cells": [
  {
   "cell_type": "code",
   "execution_count": 3,
   "id": "e454f747",
   "metadata": {
    "ExecuteTime": {
     "end_time": "2024-12-24T10:21:15.462884Z",
     "start_time": "2024-12-24T10:21:15.459128Z"
    }
   },
   "outputs": [
    {
     "name": "stdout",
     "output_type": "stream",
     "text": [
      "[C][O][C][=C][C][=C][Branch1][O][O][C][C][=C][C][=C][C][=C][Ring1][=Branch1][C][=C][Ring1][=C]\n"
     ]
    }
   ],
   "source": [
    "from selfies import encoder\n",
    "\n",
    "smiles = \"COc1ccc(OCc2ccccc2)cc1\"\n",
    "selfies = encoder(smiles)\n",
    "print(selfies)"
   ]
  },
  {
   "cell_type": "code",
   "execution_count": null,
   "id": "28074010",
   "metadata": {},
   "outputs": [],
   "source": []
  }
 ],
 "metadata": {
  "kernelspec": {
   "display_name": "clipirmol",
   "language": "python",
   "name": "clipirmol"
  },
  "language_info": {
   "codemirror_mode": {
    "name": "ipython",
    "version": 3
   },
   "file_extension": ".py",
   "mimetype": "text/x-python",
   "name": "python",
   "nbconvert_exporter": "python",
   "pygments_lexer": "ipython3",
   "version": "3.8.16"
  }
 },
 "nbformat": 4,
 "nbformat_minor": 5
}
