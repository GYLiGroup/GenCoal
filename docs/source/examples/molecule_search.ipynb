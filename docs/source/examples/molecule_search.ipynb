{
 "cells": [
  {
   "cell_type": "code",
   "execution_count": 1,
   "metadata": {},
   "outputs": [],
   "source": [
    "# 1. 导入必要的库\n",
    "from rdkit import Chem, DataStructs\n",
    "from rdkit.Chem import AllChem\n",
    "import pandas as pd\n",
    "import os"
   ]
  },
  {
   "cell_type": "code",
   "execution_count": 2,
   "metadata": {},
   "outputs": [],
   "source": [
    "# 获取当前脚本所在的目录并拼接路径\n",
    "# csv_file_path = os.path.join(os.path.dirname(__file__), \"smile_ir.csv\")\n",
    "# print(csv_file_path)"
   ]
  },
  {
   "cell_type": "code",
   "execution_count": 3,
   "metadata": {},
   "outputs": [],
   "source": [
    "def calculate_top10_similar(smiles_input, csv_file_path, output_csv_path):\n",
    "    \"\"\"\n",
    "    输入一个 SMILES 字符串，将其转换为分子对象并生成指纹，\n",
    "    然后计算与给定 CSV 文件中第一列（列名为 \"smiles\"）的所有分子的相似性，\n",
    "    返回相似度最高的前10个，并将匹配到的整行数据（插入 similarity 列）保存到新的 CSV 文件中。\n",
    "\n",
    "    参数：\n",
    "    ----------\n",
    "    smiles_input : str\n",
    "        输入的目标分子 SMILES 字符串。\n",
    "\n",
    "    csv_file_path : str\n",
    "        包含 SMILES 数据的 CSV 文件路径，要求其列名中至少有一个 \"smiles\" 列。\n",
    "\n",
    "    output_csv_path : str\n",
    "        输出包含前 10 个最相似分子的 CSV 文件路径。\n",
    "\n",
    "    返回值：\n",
    "    ----------\n",
    "    str\n",
    "        返回 \"成功\" 表示处理完成。\n",
    "\n",
    "    示例：\n",
    "    ----------\n",
    "    smiles_input = \"CCO\"\n",
    "    csv_file_path = \"smile_ir.csv\"\n",
    "    output_csv_path = \"top10_similar.csv\"\n",
    "    result = calculate_top10_similar(smiles_input, csv_file_path, output_csv_path)\n",
    "    print(result)\n",
    "    \"\"\"\n",
    "\n",
    "    # 1. 读取 CSV，让 Pandas 将第一行为列名，从第二行起作为数据\n",
    "    data = pd.read_csv(csv_file_path)  # 相当于 header=0\n",
    "    if data.empty:\n",
    "        raise ValueError(f\"CSV 文件无效或为空: {csv_file_path}\")\n",
    "\n",
    "    # 确保存在名为 \"smiles\" 的列\n",
    "    if \"smiles\" not in data.columns:\n",
    "        raise ValueError(f\"CSV 文件中未找到名为 'smiles' 的列: {csv_file_path}\")\n",
    "\n",
    "    # 2. 获取 SMILES 列的所有分子\n",
    "    smiles_list = data[\"smiles\"].dropna().tolist()\n",
    "\n",
    "    # 3. 将输入 SMILES 转换为分子对象\n",
    "    target_mol = Chem.MolFromSmiles(smiles_input)\n",
    "    if target_mol is None:\n",
    "        raise ValueError(f\"输入的 SMILES 字符串无效: {smiles_input}\")\n",
    "\n",
    "    # 4. 生成目标分子的 Morgan 指纹\n",
    "    target_fp = AllChem.GetMorganFingerprintAsBitVect(target_mol, radius=2)\n",
    "\n",
    "    # 5. 计算相似度\n",
    "    similarity_results = []\n",
    "    for s in smiles_list:\n",
    "        mol = Chem.MolFromSmiles(s)\n",
    "        if mol is not None:\n",
    "            fp = AllChem.GetMorganFingerprintAsBitVect(mol, radius=2)\n",
    "            similarity = DataStructs.TanimotoSimilarity(target_fp, fp)\n",
    "            similarity_results.append((s, similarity))\n",
    "        else:\n",
    "            print(f\"无效的 SMILES 字符串：{s}\")\n",
    "\n",
    "    # 6. 相似度降序排序，取前 10\n",
    "    similarity_results.sort(key=lambda x: x[1], reverse=True)\n",
    "    top10 = similarity_results[:10]\n",
    "\n",
    "    # 7. 准备一个新的 DataFrame 用于存放结果\n",
    "    #    在原有列的第 1 列位置插入 \"similarity\"\n",
    "    new_columns = list(data.columns)\n",
    "    # 如果 \"similarity\" 已经存在，可先根据需求去重处理\n",
    "    if \"similarity\" not in new_columns:\n",
    "        new_columns.insert(1, \"similarity\")\n",
    "    top10_df = pd.DataFrame(columns=new_columns)\n",
    "\n",
    "    # 8. 将 top10 的分子行复制到新的 DataFrame 中，并插入 similarity\n",
    "    for smiles_val, sim in top10:\n",
    "        # 在 data 中查找与该 smiles 匹配的行\n",
    "        matched_rows = data.loc[data[\"smiles\"] == smiles_val].copy()\n",
    "        if not matched_rows.empty:\n",
    "            # 在第 1 列插入 similarity 列\n",
    "            matched_rows.insert(1, \"similarity\", sim)\n",
    "            # 与 top10_df 的列顺序保持一致\n",
    "            matched_rows = matched_rows[top10_df.columns]\n",
    "            # 拼接\n",
    "            top10_df = pd.concat([top10_df, matched_rows], ignore_index=True)\n",
    "\n",
    "    # 9. 将结果保存到新的 CSV 文件（只会有一行表头）\n",
    "    top10_df.to_csv(output_csv_path, index=False)\n",
    "\n",
    "    return \"成功\""
   ]
  },
  {
   "cell_type": "code",
   "execution_count": 4,
   "metadata": {},
   "outputs": [
    {
     "data": {
      "text/plain": [
       "'成功'"
      ]
     },
     "execution_count": 4,
     "metadata": {},
     "output_type": "execute_result"
    }
   ],
   "source": [
    "input_smiles = \"Oc1ccc(Oc2ccc(OCc3ccc(O)cc3)cc2)cc1\"\n",
    "calculate_top10_similar(input_smiles, \"smile_ir.csv\",\"top10_similar.csv\")"
   ]
  }
 ],
 "metadata": {
  "kernelspec": {
   "display_name": "Python 3",
   "language": "python",
   "name": "python3"
  },
  "language_info": {
   "codemirror_mode": {
    "name": "ipython",
    "version": 3
   },
   "file_extension": ".py",
   "mimetype": "text/x-python",
   "name": "python",
   "nbconvert_exporter": "python",
   "pygments_lexer": "ipython3",
   "version": "3.8.16"
  }
 },
 "nbformat": 4,
 "nbformat_minor": 2
}
